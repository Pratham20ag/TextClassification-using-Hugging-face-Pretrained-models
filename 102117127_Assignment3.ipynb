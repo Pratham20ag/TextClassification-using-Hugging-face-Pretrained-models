{
 "cells": [
  {
   "cell_type": "code",
   "execution_count": null,
   "id": "b2b225d5",
   "metadata": {},
   "outputs": [
    {
     "data": {
      "application/vnd.jupyter.widget-view+json": {
       "model_id": "39c550b1b054415f844a3d9eea3a5bce",
       "version_major": 2,
       "version_minor": 0
      },
      "text/plain": [
       "tokenizer_config.json:   0%|          | 0.00/28.0 [00:00<?, ?B/s]"
      ]
     },
     "metadata": {},
     "output_type": "display_data"
    },
    {
     "name": "stderr",
     "output_type": "stream",
     "text": [
      "C:\\Users\\Pratham\\AppData\\Local\\Programs\\Python\\Python310\\lib\\site-packages\\huggingface_hub\\file_download.py:149: UserWarning: `huggingface_hub` cache-system uses symlinks by default to efficiently store duplicated files but your machine does not support them in C:\\Users\\Pratham\\.cache\\huggingface\\hub\\models--distilbert-base-uncased. Caching files will still work but in a degraded version that might require more space on your disk. This warning can be disabled by setting the `HF_HUB_DISABLE_SYMLINKS_WARNING` environment variable. For more details, see https://huggingface.co/docs/huggingface_hub/how-to-cache#limitations.\n",
      "To support symlinks on Windows, you either need to activate Developer Mode or to run Python as an administrator. In order to see activate developer mode, see this article: https://docs.microsoft.com/en-us/windows/apps/get-started/enable-your-device-for-development\n",
      "  warnings.warn(message)\n"
     ]
    },
    {
     "data": {
      "application/vnd.jupyter.widget-view+json": {
       "model_id": "1287822091024eee80034aeeefed65e6",
       "version_major": 2,
       "version_minor": 0
      },
      "text/plain": [
       "config.json:   0%|          | 0.00/483 [00:00<?, ?B/s]"
      ]
     },
     "metadata": {},
     "output_type": "display_data"
    },
    {
     "data": {
      "application/vnd.jupyter.widget-view+json": {
       "model_id": "cf3f429e756c479d9feffe1ba74ecf33",
       "version_major": 2,
       "version_minor": 0
      },
      "text/plain": [
       "vocab.txt:   0%|          | 0.00/232k [00:00<?, ?B/s]"
      ]
     },
     "metadata": {},
     "output_type": "display_data"
    },
    {
     "data": {
      "application/vnd.jupyter.widget-view+json": {
       "model_id": "39e3e87fd09b4984ab3d6545307732ca",
       "version_major": 2,
       "version_minor": 0
      },
      "text/plain": [
       "tokenizer.json:   0%|          | 0.00/466k [00:00<?, ?B/s]"
      ]
     },
     "metadata": {},
     "output_type": "display_data"
    },
    {
     "data": {
      "application/vnd.jupyter.widget-view+json": {
       "model_id": "ff27f5044aa94964a24aafea1db2fa95",
       "version_major": 2,
       "version_minor": 0
      },
      "text/plain": [
       "model.safetensors:   0%|          | 0.00/268M [00:00<?, ?B/s]"
      ]
     },
     "metadata": {},
     "output_type": "display_data"
    },
    {
     "name": "stderr",
     "output_type": "stream",
     "text": [
      "Some weights of DistilBertForSequenceClassification were not initialized from the model checkpoint at distilbert-base-uncased and are newly initialized: ['classifier.bias', 'classifier.weight', 'pre_classifier.bias', 'pre_classifier.weight']\n",
      "You should probably TRAIN this model on a down-stream task to be able to use it for predictions and inference.\n"
     ]
    }
   ],
   "source": [
    "from transformers import AutoTokenizer, AutoModelForSequenceClassification\n",
    "from torch.utils.data import DataLoader, TensorDataset\n",
    "from sklearn.model_selection import train_test_split\n",
    "from sklearn.metrics import accuracy_score, precision_score, recall_score, f1_score\n",
    "import torch\n",
    "\n",
    "from datasets import load_dataset\n",
    "dataset = load_dataset('imdb')\n",
    "texts = dataset['train']['text']\n",
    "labels = dataset['train']['label']\n",
    "\n",
    "train_texts, val_texts, train_labels, val_labels = train_test_split(texts, labels, test_size=0.2)\n",
    "small_model_names = [\n",
    "    'distilbert-base-uncased',\n",
    "    'textattack/bert-base-uncased-imdb',\n",
    "    'bert-base-uncased',\n",
    "    'facebook/bart-base'\n",
    "]\n",
    "\n",
    "model_classes = {model_name: (AutoTokenizer, AutoModelForSequenceClassification) for model_name in small_model_names}\n",
    "\n",
    "epochs = 3\n",
    "accuracy_arr = {model_name: [] for model_name in small_model_names}\n",
    "precision_arr = {model_name: [] for model_name in small_model_names}\n",
    "recall_arr = {model_name: [] for model_name in small_model_names}\n",
    "f1_arr = {model_name: [] for model_name in small_model_names}\n",
    "\n",
    "for model_name in small_model_names:\n",
    "\n",
    "    tokenizer_class, model_class = model_classes[model_name]\n",
    "    \n",
    "    tokenizer = tokenizer_class.from_pretrained(model_name)\n",
    "    model = model_class.from_pretrained(model_name, num_labels=2)\n",
    "\n",
    "\n",
    "    train_encodings = tokenizer(train_texts, truncation=True, padding=True, max_length=128, return_tensors='pt')\n",
    "    val_encodings = tokenizer(val_texts, truncation=True, padding=True, max_length=128, return_tensors='pt')\n",
    "\n",
    "    train_dataset = TensorDataset(train_encodings['input_ids'], train_encodings['attention_mask'], torch.tensor(train_labels))\n",
    "    val_dataset = TensorDataset(val_encodings['input_ids'], val_encodings['attention_mask'], torch.tensor(val_labels))\n",
    "\n",
    "\n",
    "    train_loader = DataLoader(train_dataset, batch_size=8, shuffle=True)\n",
    "    val_loader = DataLoader(val_dataset, batch_size=8, shuffle=False)\n",
    "\n",
    "\n",
    "    optimizer = torch.optim.AdamW(model.parameters(), lr=1e-5)\n",
    "    loss_fn = torch.nn.CrossEntropyLoss()\n",
    "\n",
    "\n",
    "    device = torch.device(\"cuda\" if torch.cuda.is_available() else \"cpu\")\n",
    "    model.to(device)\n",
    "\n",
    "    for epoch in range(epochs):\n",
    "        model.train()\n",
    "        for batch in train_loader:\n",
    "            input_ids, attention_mask, labels = batch\n",
    "            input_ids, attention_mask, labels = input_ids.to(device), attention_mask.to(device), labels.to(device)\n",
    "\n",
    "            optimizer.zero_grad()\n",
    "            outputs = model(input_ids, attention_mask=attention_mask, labels=labels)\n",
    "            loss = outputs.loss\n",
    "            loss.backward()\n",
    "            optimizer.step()\n",
    "\n",
    "\n",
    "        model.eval()\n",
    "        predictions = []\n",
    "        true_labels = []\n",
    "        with torch.no_grad():\n",
    "            for batch in val_loader:\n",
    "                input_ids, attention_mask, labels = batch\n",
    "                input_ids, attention_mask, labels = input_ids.to(device), attention_mask.to(device), labels.to(device)\n",
    "\n",
    "                outputs = model(input_ids, attention_mask=attention_mask, labels=labels)\n",
    "                _, predicted_labels = torch.max(outputs.logits, 1)\n",
    "\n",
    "                predictions.extend(predicted_labels.cpu().numpy())\n",
    "                true_labels.extend(labels.cpu().numpy())\n",
    "\n",
    "\n",
    "        accuracy = accuracy_score(true_labels, predictions)\n",
    "        precision = precision_score(true_labels, predictions)\n",
    "        recall = recall_score(true_labels, predictions)\n",
    "        f1 = f1_score(true_labels, predictions)\n",
    "\n",
    "\n",
    "        accuracy_arr[model_name].append(accuracy)\n",
    "        precision_arr[model_name].append(precision)\n",
    "        recall_arr[model_name].append(recall)\n",
    "        f1_arr[model_name].append(f1)\n",
    "\n",
    "        print(f\"Model: {model_name} - Epoch {epoch + 1}/{epochs} - Accuracy: {accuracy:.4f}, Precision: {precision:.4f}, Recall: {recall:.4f}, F1: {f1:.4f}\")\n",
    "\n",
    "\n",
    "for model_name in small_model_names:\n",
    "    print(f\"\\nFinal Scores for {model_name}:\")\n",
    "    print(f\"Accuracy: {accuracy_arr[model_name]}\")\n",
    "    print(f\"Precision: {precision_arr[model_name]}\")\n",
    "    print(f\"Recall: {recall_arr[model_name]}\")\n",
    "    print(f\"F1: {f1_arr[model_name]}\")\n"
   ]
  },
  {
   "cell_type": "code",
   "execution_count": null,
   "id": "400f841e",
   "metadata": {},
   "outputs": [],
   "source": [
    "import numpy as np\n",
    "\n",
    "\n",
    "\n",
    "normalized_accuracy = np.zeros(len(small_model_names))\n",
    "normalized_precision = np.zeros(len(small_model_names))\n",
    "normalized_recall = np.zeros(len(small_model_names))\n",
    "normalized_f1 = np.zeros(len(small_model_names))\n",
    "\n",
    "\n",
    "for i, model_name in enumerate(small_model_names):\n",
    "    accuracy_values = np.array(accuracy_arr[model_name])\n",
    "    precision_values = np.array(precision_arr[model_name])\n",
    "    recall_values = np.array(recall_arr[model_name])\n",
    "    f1_values = np.array(f1_arr[model_name])\n",
    "\n",
    "\n",
    "    normalized_accuracy[i] = accuracy_values.mean() / accuracy_values.std()\n",
    "    normalized_precision[i] = precision_values.mean() / precision_values.std()\n",
    "    normalized_recall[i] = recall_values.mean() / recall_values.std()\n",
    "    normalized_f1[i] = f1_values.mean() / f1_values.std()\n",
    "\n",
    "\n",
    "geometric_mean = np.sqrt(normalized_accuracy * normalized_precision * normalized_recall * normalized_f1)\n",
    "\n",
    "model_ranking = np.argsort(geometric_mean)[::-1] + 1  \n",
    "\n",
    "print(\"\\nTOPSIS Scores:\")\n",
    "for i, model_name in enumerate(small_model_names):\n",
    "    print(f\"{model_name}: {geometric_mean[i]:.4f} (Rank: {model_ranking[i]})\")\n"
   ]
  },
  {
   "cell_type": "code",
   "execution_count": null,
   "id": "3b73fb7e",
   "metadata": {},
   "outputs": [],
   "source": [
    "import matplotlib.pyplot as plt\n",
    "plt.figure(figsize=(10, 6))\n",
    "plt.bar(small_model_names, geometric_mean, color='skyblue')\n",
    "plt.xlabel('Models')\n",
    "plt.ylabel('TOPSIS Score')\n",
    "plt.title('TOPSIS Scores for Text Classification Models')\n",
    "plt.xticks(rotation=45, ha='right')\n",
    "plt.tight_layout()\n",
    "plt.show()\n"
   ]
  }
 ],
 "metadata": {
  "kernelspec": {
   "display_name": "Python 3 (ipykernel)",
   "language": "python",
   "name": "python3"
  },
  "language_info": {
   "codemirror_mode": {
    "name": "ipython",
    "version": 3
   },
   "file_extension": ".py",
   "mimetype": "text/x-python",
   "name": "python",
   "nbconvert_exporter": "python",
   "pygments_lexer": "ipython3",
   "version": "3.10.10"
  }
 },
 "nbformat": 4,
 "nbformat_minor": 5
}
